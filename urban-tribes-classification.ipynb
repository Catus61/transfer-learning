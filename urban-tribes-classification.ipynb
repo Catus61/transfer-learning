{
 "cells": [
  {
   "cell_type": "markdown",
   "metadata": {},
   "source": [
    "# Urban Tribes Classification"
   ]
  },
  {
   "cell_type": "markdown",
   "metadata": {},
   "source": [
    "## Data Preparation"
   ]
  },
  {
   "cell_type": "code",
   "execution_count": 1,
   "metadata": {
    "collapsed": false
   },
   "outputs": [
    {
     "data": {
      "text/plain": [
       "{'biker': 0,\n",
       " 'clubber': 1,\n",
       " 'country': 2,\n",
       " 'formal': 3,\n",
       " 'goth': 4,\n",
       " 'heavy': 5,\n",
       " 'hiphop': 6,\n",
       " 'hipster': 7,\n",
       " 'others': 8,\n",
       " 'ravers': 9,\n",
       " 'surfer': 10}"
      ]
     },
     "execution_count": 1,
     "metadata": {},
     "output_type": "execute_result"
    }
   ],
   "source": [
    "from pathlib import Path\n",
    "\n",
    "def parse_group_name(path):\n",
    "    \"\"\"Parse the group name from a path.\"\"\"\n",
    "    return path.name.split('_')[0]\n",
    "\n",
    "data_dir = Path('pictures_all')\n",
    "group = {}\n",
    "for path in data_dir.glob('*.jpg'):\n",
    "    group_name = parse_group_name(path)\n",
    "    if group_name not in group:\n",
    "        # Map each group name to an integer group number starting from 0\n",
    "        group[group_name] = len(group)\n",
    "group"
   ]
  },
  {
   "cell_type": "code",
   "execution_count": 2,
   "metadata": {
    "collapsed": false
   },
   "outputs": [
    {
     "name": "stdout",
     "output_type": "stream",
     "text": [
      "CPU times: user 1 µs, sys: 0 ns, total: 1 µs\n",
      "Wall time: 4.05 µs\n"
     ]
    },
    {
     "name": "stderr",
     "output_type": "stream",
     "text": [
      "Using TensorFlow backend.\n"
     ]
    },
    {
     "name": "stdout",
     "output_type": "stream",
     "text": [
      "(1158, 224, 224, 3)\n",
      "(1158, 11)\n"
     ]
    }
   ],
   "source": [
    "%time\n",
    "from keras.preprocessing.image import img_to_array, load_img\n",
    "from keras.utils.np_utils import to_categorical\n",
    "import numpy as np\n",
    "\n",
    "def parse_group_number(path):\n",
    "    \"\"\"Parse the group number from a path.\"\"\"\n",
    "    return group[parse_group_name(path)]\n",
    "\n",
    "images = []\n",
    "labels = []\n",
    "for path in data_dir.glob('*.jpg'):\n",
    "    img = load_img(path)\n",
    "    images += [img_to_array(img.resize((224, 224)))]\n",
    "    labels += [parse_group_number(path)]\n",
    "images = np.stack(images)\n",
    "labels = to_categorical(np.array(labels), nb_classes=len(group))\n",
    "print(images.shape)\n",
    "print(labels.shape)"
   ]
  }
 ],
 "metadata": {
  "kernelspec": {
   "display_name": "Python 3",
   "language": "python",
   "name": "python3"
  },
  "language_info": {
   "codemirror_mode": {
    "name": "ipython",
    "version": 3
   },
   "file_extension": ".py",
   "mimetype": "text/x-python",
   "name": "python",
   "nbconvert_exporter": "python",
   "pygments_lexer": "ipython3",
   "version": "3.5.2"
  }
 },
 "nbformat": 4,
 "nbformat_minor": 2
}
